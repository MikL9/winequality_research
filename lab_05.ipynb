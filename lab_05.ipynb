{
 "cells": [
  {
   "cell_type": "code",
   "execution_count": 1,
   "metadata": {
    "collapsed": true,
    "ExecuteTime": {
     "end_time": "2023-05-26T09:23:21.412867200Z",
     "start_time": "2023-05-26T09:23:21.194167200Z"
    }
   },
   "outputs": [
    {
     "name": "stdout",
     "output_type": "stream",
     "text": [
      "Accuracy: 0.5687\n"
     ]
    }
   ],
   "source": [
    "import pandas as pd\n",
    "from sklearn.model_selection import train_test_split\n",
    "from sklearn.tree import DecisionTreeClassifier\n",
    "from sklearn.metrics import accuracy_score\n",
    "from sklearn import tree\n",
    "import graphviz\n",
    "\n",
    "# Загрузка данных из файла CSV\n",
    "wine_data = pd.read_csv('winequality/winequality-red.csv', delimiter=';')\n",
    "\n",
    "# Подготовка данных\n",
    "X = wine_data.drop('quality', axis=1)  # Независимые переменные\n",
    "y = wine_data['quality']  # Целевая переменная\n",
    "\n",
    "# Разделение данных на обучающий и тестовый наборы\n",
    "X_train, X_test, y_train, y_test = train_test_split(X, y, test_size=0.2, random_state=42)\n",
    "\n",
    "# Создание модели дерева решений\n",
    "model = DecisionTreeClassifier()\n",
    "\n",
    "# Convert feature and class names to strings\n",
    "feature_names = [str(feature) for feature in X.columns]\n",
    "class_names = [str(cls) for cls in y.unique()]\n",
    "\n",
    "# Обучение модели\n",
    "model.fit(X_train, y_train)\n",
    "\n",
    "# Прогнозирование на тестовых данных\n",
    "y_pred = model.predict(X_test)\n",
    "\n",
    "# Оценка точности модели\n",
    "accuracy = accuracy_score(y_test, y_pred)\n",
    "print(f'Accuracy: {accuracy:.4f}')"
   ]
  },
  {
   "cell_type": "markdown",
   "source": [],
   "metadata": {
    "collapsed": false
   }
  },
  {
   "cell_type": "code",
   "execution_count": 2,
   "outputs": [
    {
     "data": {
      "text/plain": "'wine_quality_tree.png'"
     },
     "execution_count": 2,
     "metadata": {},
     "output_type": "execute_result"
    }
   ],
   "source": [
    "# Visualize the decision tree\n",
    "dot_data = tree.export_graphviz(model, out_file=None, feature_names=feature_names, class_names=class_names, filled=True)\n",
    "graph = graphviz.Source(dot_data)\n",
    "graph.render(\"wine_quality_tree\", format=\"png\", cleanup=True)"
   ],
   "metadata": {
    "collapsed": false,
    "ExecuteTime": {
     "end_time": "2023-05-26T09:23:29.549624500Z",
     "start_time": "2023-05-26T09:23:25.232596500Z"
    }
   }
  },
  {
   "cell_type": "code",
   "execution_count": null,
   "outputs": [],
   "source": [],
   "metadata": {
    "collapsed": false
   }
  }
 ],
 "metadata": {
  "kernelspec": {
   "display_name": "Python 3",
   "language": "python",
   "name": "python3"
  },
  "language_info": {
   "codemirror_mode": {
    "name": "ipython",
    "version": 2
   },
   "file_extension": ".py",
   "mimetype": "text/x-python",
   "name": "python",
   "nbconvert_exporter": "python",
   "pygments_lexer": "ipython2",
   "version": "2.7.6"
  }
 },
 "nbformat": 4,
 "nbformat_minor": 0
}
