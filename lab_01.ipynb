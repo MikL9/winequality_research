{
 "nbformat": 4,
 "nbformat_minor": 0,
 "metadata": {
  "colab": {
   "provenance": []
  },
  "kernelspec": {
   "name": "python3",
   "language": "python",
   "display_name": "Python 3 (ipykernel)"
  },
  "language_info": {
   "name": "python"
  }
 },
 "cells": [
  {
   "cell_type": "code",
   "execution_count": 1,
   "metadata": {
    "id": "-_kMSVisGGDg",
    "ExecuteTime": {
     "end_time": "2023-05-26T07:55:44.303827300Z",
     "start_time": "2023-05-26T07:55:43.980689700Z"
    }
   },
   "outputs": [],
   "source": [
    "# Импортируем Pandas\n",
    "import pandas as pd\n",
    "# ипортируем Numpy \n",
    "import numpy as np"
   ]
  },
  {
   "cell_type": "code",
   "source": [
    "# Задаем количество записей\n",
    "N = 10\n",
    "\n",
    "Nrow = np.arange(1, N+1) # номер записи\n",
    "Name = ['Сотрудник ' + str(i) for i in range(1, N+1)] # имя сотрудника\n",
    "BirthYear = np.random.randint(1965, 1990+1, size=N) # год рождения\n",
    "EmployYear = np.random.randint(BirthYear+18, 2007, size=N) # год приема на работу\n",
    "Salary = np.random.randint(10000, 30000+1, size=N) # зарплата\n",
    "\n",
    "df = pd.DataFrame({'Nrow': Nrow,\n",
    "                   'Name': Name,\n",
    "                   'BirthYear': BirthYear,\n",
    "                   'EmployYear': EmployYear,\n",
    "                   'Salary': Salary})\n",
    "\n",
    "# Выводим фрейм данных\n",
    "df\n"
   ],
   "metadata": {
    "id": "r-cwPCQtKYOj",
    "ExecuteTime": {
     "end_time": "2023-05-26T08:01:33.566564800Z",
     "start_time": "2023-05-26T08:01:33.518603300Z"
    }
   },
   "execution_count": 4,
   "outputs": [
    {
     "data": {
      "text/plain": "   Nrow          Name  BirthYear  EmployYear  Salary\n0     1   Сотрудник 1       1968        1999   20365\n1     2   Сотрудник 2       1980        2001   23182\n2     3   Сотрудник 3       1977        2002   11299\n3     4   Сотрудник 4       1988        2006   23971\n4     5   Сотрудник 5       1987        2006   25676\n5     6   Сотрудник 6       1984        2002   28786\n6     7   Сотрудник 7       1981        1999   23119\n7     8   Сотрудник 8       1985        2003   29610\n8     9   Сотрудник 9       1972        2004   23119\n9    10  Сотрудник 10       1981        2006   12783",
      "text/html": "<div>\n<style scoped>\n    .dataframe tbody tr th:only-of-type {\n        vertical-align: middle;\n    }\n\n    .dataframe tbody tr th {\n        vertical-align: top;\n    }\n\n    .dataframe thead th {\n        text-align: right;\n    }\n</style>\n<table border=\"1\" class=\"dataframe\">\n  <thead>\n    <tr style=\"text-align: right;\">\n      <th></th>\n      <th>Nrow</th>\n      <th>Name</th>\n      <th>BirthYear</th>\n      <th>EmployYear</th>\n      <th>Salary</th>\n    </tr>\n  </thead>\n  <tbody>\n    <tr>\n      <th>0</th>\n      <td>1</td>\n      <td>Сотрудник 1</td>\n      <td>1968</td>\n      <td>1999</td>\n      <td>20365</td>\n    </tr>\n    <tr>\n      <th>1</th>\n      <td>2</td>\n      <td>Сотрудник 2</td>\n      <td>1980</td>\n      <td>2001</td>\n      <td>23182</td>\n    </tr>\n    <tr>\n      <th>2</th>\n      <td>3</td>\n      <td>Сотрудник 3</td>\n      <td>1977</td>\n      <td>2002</td>\n      <td>11299</td>\n    </tr>\n    <tr>\n      <th>3</th>\n      <td>4</td>\n      <td>Сотрудник 4</td>\n      <td>1988</td>\n      <td>2006</td>\n      <td>23971</td>\n    </tr>\n    <tr>\n      <th>4</th>\n      <td>5</td>\n      <td>Сотрудник 5</td>\n      <td>1987</td>\n      <td>2006</td>\n      <td>25676</td>\n    </tr>\n    <tr>\n      <th>5</th>\n      <td>6</td>\n      <td>Сотрудник 6</td>\n      <td>1984</td>\n      <td>2002</td>\n      <td>28786</td>\n    </tr>\n    <tr>\n      <th>6</th>\n      <td>7</td>\n      <td>Сотрудник 7</td>\n      <td>1981</td>\n      <td>1999</td>\n      <td>23119</td>\n    </tr>\n    <tr>\n      <th>7</th>\n      <td>8</td>\n      <td>Сотрудник 8</td>\n      <td>1985</td>\n      <td>2003</td>\n      <td>29610</td>\n    </tr>\n    <tr>\n      <th>8</th>\n      <td>9</td>\n      <td>Сотрудник 9</td>\n      <td>1972</td>\n      <td>2004</td>\n      <td>23119</td>\n    </tr>\n    <tr>\n      <th>9</th>\n      <td>10</td>\n      <td>Сотрудник 10</td>\n      <td>1981</td>\n      <td>2006</td>\n      <td>12783</td>\n    </tr>\n  </tbody>\n</table>\n</div>"
     },
     "execution_count": 4,
     "metadata": {},
     "output_type": "execute_result"
    }
   ]
  },
  {
   "cell_type": "code",
   "execution_count": 6,
   "outputs": [
    {
     "data": {
      "text/plain": "8"
     },
     "execution_count": 6,
     "metadata": {},
     "output_type": "execute_result"
    }
   ],
   "source": [
    "(df['Salary'] > 15000).value_counts()[True] # Число сотрудников с зарплатой, больше 15000"
   ],
   "metadata": {
    "collapsed": false,
    "ExecuteTime": {
     "end_time": "2023-05-26T08:04:52.405925900Z",
     "start_time": "2023-05-26T08:04:52.359061200Z"
    }
   }
  },
  {
   "cell_type": "code",
   "execution_count": 8,
   "outputs": [
    {
     "data": {
      "text/plain": "   Nrow          Name  BirthYear  EmployYear  Salary  income_tax   \n0     1   Сотрудник 1       1968        1999   20365     2647.45  \\\n1     2   Сотрудник 2       1980        2001   23182     3013.66   \n2     3   Сотрудник 3       1977        2002   11299     1468.87   \n3     4   Сотрудник 4       1988        2006   23971     3116.23   \n4     5   Сотрудник 5       1987        2006   25676     3337.88   \n5     6   Сотрудник 6       1984        2002   28786     3742.18   \n6     7   Сотрудник 7       1981        1999   23119     3005.47   \n7     8   Сотрудник 8       1985        2003   29610     3849.30   \n8     9   Сотрудник 9       1972        2004   23119     3005.47   \n9    10  Сотрудник 10       1981        2006   12783     1661.79   \n\n   income_tax_sum  \n0        63538.80  \n1        66300.52  \n2        30846.27  \n3        52975.91  \n4        56743.96  \n5        78585.78  \n6        72131.28  \n7        76986.00  \n8        57103.93  \n9        28250.43  ",
      "text/html": "<div>\n<style scoped>\n    .dataframe tbody tr th:only-of-type {\n        vertical-align: middle;\n    }\n\n    .dataframe tbody tr th {\n        vertical-align: top;\n    }\n\n    .dataframe thead th {\n        text-align: right;\n    }\n</style>\n<table border=\"1\" class=\"dataframe\">\n  <thead>\n    <tr style=\"text-align: right;\">\n      <th></th>\n      <th>Nrow</th>\n      <th>Name</th>\n      <th>BirthYear</th>\n      <th>EmployYear</th>\n      <th>Salary</th>\n      <th>income_tax</th>\n      <th>income_tax_sum</th>\n    </tr>\n  </thead>\n  <tbody>\n    <tr>\n      <th>0</th>\n      <td>1</td>\n      <td>Сотрудник 1</td>\n      <td>1968</td>\n      <td>1999</td>\n      <td>20365</td>\n      <td>2647.45</td>\n      <td>63538.80</td>\n    </tr>\n    <tr>\n      <th>1</th>\n      <td>2</td>\n      <td>Сотрудник 2</td>\n      <td>1980</td>\n      <td>2001</td>\n      <td>23182</td>\n      <td>3013.66</td>\n      <td>66300.52</td>\n    </tr>\n    <tr>\n      <th>2</th>\n      <td>3</td>\n      <td>Сотрудник 3</td>\n      <td>1977</td>\n      <td>2002</td>\n      <td>11299</td>\n      <td>1468.87</td>\n      <td>30846.27</td>\n    </tr>\n    <tr>\n      <th>3</th>\n      <td>4</td>\n      <td>Сотрудник 4</td>\n      <td>1988</td>\n      <td>2006</td>\n      <td>23971</td>\n      <td>3116.23</td>\n      <td>52975.91</td>\n    </tr>\n    <tr>\n      <th>4</th>\n      <td>5</td>\n      <td>Сотрудник 5</td>\n      <td>1987</td>\n      <td>2006</td>\n      <td>25676</td>\n      <td>3337.88</td>\n      <td>56743.96</td>\n    </tr>\n    <tr>\n      <th>5</th>\n      <td>6</td>\n      <td>Сотрудник 6</td>\n      <td>1984</td>\n      <td>2002</td>\n      <td>28786</td>\n      <td>3742.18</td>\n      <td>78585.78</td>\n    </tr>\n    <tr>\n      <th>6</th>\n      <td>7</td>\n      <td>Сотрудник 7</td>\n      <td>1981</td>\n      <td>1999</td>\n      <td>23119</td>\n      <td>3005.47</td>\n      <td>72131.28</td>\n    </tr>\n    <tr>\n      <th>7</th>\n      <td>8</td>\n      <td>Сотрудник 8</td>\n      <td>1985</td>\n      <td>2003</td>\n      <td>29610</td>\n      <td>3849.30</td>\n      <td>76986.00</td>\n    </tr>\n    <tr>\n      <th>8</th>\n      <td>9</td>\n      <td>Сотрудник 9</td>\n      <td>1972</td>\n      <td>2004</td>\n      <td>23119</td>\n      <td>3005.47</td>\n      <td>57103.93</td>\n    </tr>\n    <tr>\n      <th>9</th>\n      <td>10</td>\n      <td>Сотрудник 10</td>\n      <td>1981</td>\n      <td>2006</td>\n      <td>12783</td>\n      <td>1661.79</td>\n      <td>28250.43</td>\n    </tr>\n  </tbody>\n</table>\n</div>"
     },
     "execution_count": 8,
     "metadata": {},
     "output_type": "execute_result"
    }
   ],
   "source": [
    "df['income_tax'] = df['Salary'] * 0.13\n",
    "df['income_tax_sum'] = (df['Salary'] * 0.13) * (2023 - df['EmployYear'])\n",
    "df"
   ],
   "metadata": {
    "collapsed": false,
    "ExecuteTime": {
     "end_time": "2023-05-26T08:08:53.396489Z",
     "start_time": "2023-05-26T08:08:53.380867Z"
    }
   }
  },
  {
   "cell_type": "markdown",
   "source": [],
   "metadata": {
    "id": "USWEAOMfiKRc"
   }
  }
 ]
}
